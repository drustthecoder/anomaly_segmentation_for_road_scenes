{
  "nbformat": 4,
  "nbformat_minor": 0,
  "metadata": {
    "colab": {
      "provenance": [],
      "gpuType": "T4"
    },
    "kernelspec": {
      "name": "python3",
      "display_name": "Python 3"
    },
    "language_info": {
      "name": "python"
    },
    "accelerator": "GPU"
  },
  "cells": [
    {
      "cell_type": "code",
      "source": [
        "!mkdir datasets"
      ],
      "metadata": {
        "id": "0H1DTSASHA4I"
      },
      "execution_count": null,
      "outputs": []
    },
    {
      "cell_type": "code",
      "execution_count": null,
      "metadata": {
        "colab": {
          "base_uri": "https://localhost:8080/"
        },
        "id": "1Dhvzw08Gme5",
        "outputId": "65b5dae9-c55d-4714-922e-e6a34f3a629b"
      },
      "outputs": [
        {
          "output_type": "stream",
          "name": "stdout",
          "text": [
            "Downloading...\n",
            "From (original): https://drive.google.com/uc?id=1T001SRx3JByNr95zDXp-ssZswUqB4qN5\n",
            "From (redirected): https://drive.google.com/uc?id=1T001SRx3JByNr95zDXp-ssZswUqB4qN5&confirm=t&uuid=1e93e02f-edc9-45dd-97e7-67c5653fcb4b\n",
            "To: /content/Validation_Dataset.zip\n",
            "100% 329M/329M [00:10<00:00, 31.8MB/s]\n"
          ]
        }
      ],
      "source": [
        "!gdown 1T001SRx3JByNr95zDXp-ssZswUqB4qN5\n",
        "!mv /content/Validation_Dataset.zip datasets\n",
        "!unzip -d datasets/ -qo /content/datasets/Validation_Dataset.zip"
      ]
    },
    {
      "cell_type": "code",
      "source": [
        "!git clone https://github.com/shayanit/anomaly-segmentation-for-road-scenes.git"
      ],
      "metadata": {
        "id": "pgOYbhgaHRL-",
        "colab": {
          "base_uri": "https://localhost:8080/"
        },
        "outputId": "e11028b6-55de-4885-efaa-6015ad65529b"
      },
      "execution_count": null,
      "outputs": [
        {
          "output_type": "stream",
          "name": "stdout",
          "text": [
            "Cloning into 'anomaly-segmentation-for-road-scenes'...\n",
            "remote: Enumerating objects: 811, done.\u001b[K\n",
            "remote: Counting objects: 100% (130/130), done.\u001b[K\n",
            "remote: Compressing objects: 100% (82/82), done.\u001b[K\n",
            "remote: Total 811 (delta 77), reused 100 (delta 48), pack-reused 681\u001b[K\n",
            "Receiving objects: 100% (811/811), 562.14 MiB | 16.25 MiB/s, done.\n",
            "Resolving deltas: 100% (195/195), done.\n"
          ]
        }
      ]
    },
    {
      "cell_type": "code",
      "source": [
        "!pip install -q ood_metrics"
      ],
      "metadata": {
        "id": "SwLFg2nzHivi"
      },
      "execution_count": null,
      "outputs": []
    },
    {
      "cell_type": "markdown",
      "source": [
        "# MSP, Maxlogit, Maxentropy"
      ],
      "metadata": {
        "id": "y0uQMJUtuQ1J"
      }
    },
    {
      "cell_type": "code",
      "source": [
        "%run /content/anomaly-segmentation-for-road-scenes/eval/evalAnomaly.py --method=\"msp\" --input='/content/datasets/Validation_Dataset/RoadAnomaly21/images/*.png' --loadDir \"/content/anomaly-segmentation-for-road-scenes/trained_models/\" --q\n",
        "%run /content/anomaly-segmentation-for-road-scenes/eval/evalAnomaly.py --method=\"msp\" --input='/content/datasets/Validation_Dataset/RoadObsticle21/images/*.webp' --loadDir \"/content/anomaly-segmentation-for-road-scenes/trained_models/\" --q\n",
        "%run /content/anomaly-segmentation-for-road-scenes/eval/evalAnomaly.py --method=\"msp\" --input='/content/datasets/Validation_Dataset/FS_LostFound_full/images/*.png' --loadDir \"/content/anomaly-segmentation-for-road-scenes/trained_models/\" --q\n",
        "%run /content/anomaly-segmentation-for-road-scenes/eval/evalAnomaly.py --method=\"msp\" --input='/content/datasets/Validation_Dataset/fs_static/images/*.jpg' --loadDir \"/content/anomaly-segmentation-for-road-scenes/trained_models/\" --q\n",
        "%run /content/anomaly-segmentation-for-road-scenes/eval/evalAnomaly.py --method=\"msp\" --input='/content/datasets/Validation_Dataset/RoadAnomaly/images/*.jpg' --loadDir \"/content/anomaly-segmentation-for-road-scenes/trained_models/\" --q\n",
        "%run /content/anomaly-segmentation-for-road-scenes/eval/evalAnomaly.py --method=\"maxlogit\" --input='/content/datasets/Validation_Dataset/RoadAnomaly21/images/*.png' --loadDir \"/content/anomaly-segmentation-for-road-scenes/trained_models/\" --q\n",
        "%run /content/anomaly-segmentation-for-road-scenes/eval/evalAnomaly.py --method=\"maxlogit\" --input='/content/datasets/Validation_Dataset/RoadObsticle21/images/*.webp' --loadDir \"/content/anomaly-segmentation-for-road-scenes/trained_models/\" --q\n",
        "%run /content/anomaly-segmentation-for-road-scenes/eval/evalAnomaly.py --method=\"maxlogit\" --input='/content/datasets/Validation_Dataset/FS_LostFound_full/images/*.png' --loadDir \"/content/anomaly-segmentation-for-road-scenes/trained_models/\" --q\n",
        "%run /content/anomaly-segmentation-for-road-scenes/eval/evalAnomaly.py --method=\"maxlogit\" --input='/content/datasets/Validation_Dataset/fs_static/images/*.jpg' --loadDir \"/content/anomaly-segmentation-for-road-scenes/trained_models/\" --q\n",
        "%run /content/anomaly-segmentation-for-road-scenes/eval/evalAnomaly.py --method=\"maxlogit\" --input='/content/datasets/Validation_Dataset/RoadAnomaly/images/*.jpg' --loadDir \"/content/anomaly-segmentation-for-road-scenes/trained_models/\" --q\n",
        "%run /content/anomaly-segmentation-for-road-scenes/eval/evalAnomaly.py --method=\"maxentropy\" --input='/content/datasets/Validation_Dataset/RoadAnomaly21/images/*.png' --loadDir \"/content/anomaly-segmentation-for-road-scenes/trained_models/\" --q\n",
        "%run /content/anomaly-segmentation-for-road-scenes/eval/evalAnomaly.py --method=\"maxentropy\" --input='/content/datasets/Validation_Dataset/RoadObsticle21/images/*.webp' --loadDir \"/content/anomaly-segmentation-for-road-scenes/trained_models/\" --q\n",
        "%run /content/anomaly-segmentation-for-road-scenes/eval/evalAnomaly.py --method=\"maxentropy\" --input='/content/datasets/Validation_Dataset/FS_LostFound_full/images/*.png' --loadDir \"/content/anomaly-segmentation-for-road-scenes/trained_models/\" --q\n",
        "%run /content/anomaly-segmentation-for-road-scenes/eval/evalAnomaly.py --method=\"maxentropy\" --input='/content/datasets/Validation_Dataset/fs_static/images/*.jpg' --loadDir \"/content/anomaly-segmentation-for-road-scenes/trained_models/\" --q\n",
        "%run /content/anomaly-segmentation-for-road-scenes/eval/evalAnomaly.py --method=\"maxentropy\" --input='/content/datasets/Validation_Dataset/RoadAnomaly/images/*.jpg' --loadDir \"/content/anomaly-segmentation-for-road-scenes/trained_models/\" --q\n"
      ],
      "metadata": {
        "id": "Pl-MUlS-Hfk1",
        "colab": {
          "base_uri": "https://localhost:8080/"
        },
        "outputId": "30960dc5-85e4-421b-ca47-971ecefc6921"
      },
      "execution_count": null,
      "outputs": [
        {
          "output_type": "stream",
          "name": "stdout",
          "text": [
            "erfnet\tmsp\tRoadAnomaly21\tt=1\tAUPRC score: 35.87\tFPR@TPR95: 58.27\n",
            "erfnet\tmsp\tRoadObsticle21\tt=1\tAUPRC score: 7.216\tFPR@TPR95: 25.474\n",
            "erfnet\tmsp\tFS_LostFound_fu\tt=1\tAUPRC score: 5.341\tFPR@TPR95: 50.414\n",
            "erfnet\tmsp\tfs_static\tt=1\tAUPRC score: 7.632\tFPR@TPR95: 40.172\n",
            "erfnet\tmsp\tRoadAnomaly\tt=1\tAUPRC score: 15.286\tFPR@TPR95: 76.208\n",
            "erfnet\tmaxlogit\tRoadAnomaly21\tt=1\tAUPRC score: 37.953\tFPR@TPR95: 60.401\n",
            "erfnet\tmaxlogit\tRoadObsticle21\tt=1\tAUPRC score: 6.733\tFPR@TPR95: 36.569\n",
            "erfnet\tmaxlogit\tFS_LostFound_fu\tt=1\tAUPRC score: 19.035\tFPR@TPR95: 43.516\n",
            "erfnet\tmaxlogit\tfs_static\tt=1\tAUPRC score: 12.334\tFPR@TPR95: 36.132\n",
            "erfnet\tmaxlogit\tRoadAnomaly\tt=1\tAUPRC score: 17.498\tFPR@TPR95: 71.127\n",
            "erfnet\tmaxentropy\tRoadAnomaly21\tt=1\tAUPRC score: 38.601\tFPR@TPR95: 59.416\n",
            "erfnet\tmaxentropy\tRoadObsticle21\tt=1\tAUPRC score: 10.699\tFPR@TPR95: 25.339\n",
            "erfnet\tmaxentropy\tFS_LostFound_fu\tt=1\tAUPRC score: 9.243\tFPR@TPR95: 50.106\n",
            "erfnet\tmaxentropy\tfs_static\tt=1\tAUPRC score: 8.887\tFPR@TPR95: 40.033\n",
            "erfnet\tmaxentropy\tRoadAnomaly\tt=1\tAUPRC score: 16.123\tFPR@TPR95: 76.238\n"
          ]
        }
      ]
    },
    {
      "cell_type": "markdown",
      "source": [
        "# Temperature scaling"
      ],
      "metadata": {
        "id": "5sTWWQa1ubOK"
      }
    },
    {
      "cell_type": "code",
      "source": [
        "%run /content/anomaly-segmentation-for-road-scenes/eval/evalAnomaly.py --method='msp' --temperature=1 --input='/content/datasets/Validation_Dataset/RoadAnomaly21/images/*.png' --loadDir \"/content/anomaly-segmentation-for-road-scenes/trained_models/\" --q\n",
        "%run /content/anomaly-segmentation-for-road-scenes/eval/evalAnomaly.py --method='msp' --temperature=0.5 --input='/content/datasets/Validation_Dataset/RoadAnomaly21/images/*.png' --loadDir \"/content/anomaly-segmentation-for-road-scenes/trained_models/\" --q\n",
        "%run /content/anomaly-segmentation-for-road-scenes/eval/evalAnomaly.py --method='msp' --temperature=0.75 --input='/content/datasets/Validation_Dataset/RoadAnomaly21/images/*.png' --loadDir \"/content/anomaly-segmentation-for-road-scenes/trained_models/\" --q\n",
        "%run /content/anomaly-segmentation-for-road-scenes/eval/evalAnomaly.py --method='msp' --temperature=1.1 --input='/content/datasets/Validation_Dataset/RoadAnomaly21/images/*.png' --loadDir \"/content/anomaly-segmentation-for-road-scenes/trained_models/\" --q\n",
        "print(\"\")\n",
        "%run /content/anomaly-segmentation-for-road-scenes/eval/evalAnomaly.py --method='msp' --temperature=1 --input='/content/datasets/Validation_Dataset/RoadObsticle21/images/*.webp' --loadDir \"/content/anomaly-segmentation-for-road-scenes/trained_models/\" --q\n",
        "%run /content/anomaly-segmentation-for-road-scenes/eval/evalAnomaly.py --method='msp' --temperature=0.5 --input='/content/datasets/Validation_Dataset/RoadObsticle21/images/*.webp' --loadDir \"/content/anomaly-segmentation-for-road-scenes/trained_models/\" --q\n",
        "%run /content/anomaly-segmentation-for-road-scenes/eval/evalAnomaly.py --method='msp' --temperature=0.75 --input='/content/datasets/Validation_Dataset/RoadObsticle21/images/*.webp' --loadDir \"/content/anomaly-segmentation-for-road-scenes/trained_models/\" --q\n",
        "%run /content/anomaly-segmentation-for-road-scenes/eval/evalAnomaly.py --method='msp' --temperature=1.1 --input='/content/datasets/Validation_Dataset/RoadObsticle21/images/*.webp' --loadDir \"/content/anomaly-segmentation-for-road-scenes/trained_models/\" --q\n",
        "print(\"\")\n",
        "%run /content/anomaly-segmentation-for-road-scenes/eval/evalAnomaly.py --method='msp' --temperature=1 --input='/content/datasets/Validation_Dataset/FS_LostFound_full/images/*.png' --loadDir \"/content/anomaly-segmentation-for-road-scenes/trained_models/\" --q\n",
        "%run /content/anomaly-segmentation-for-road-scenes/eval/evalAnomaly.py --method='msp' --temperature=0.5 --input='/content/datasets/Validation_Dataset/FS_LostFound_full/images/*.png' --loadDir \"/content/anomaly-segmentation-for-road-scenes/trained_models/\" --q\n",
        "%run /content/anomaly-segmentation-for-road-scenes/eval/evalAnomaly.py --method='msp' --temperature=0.75 --input='/content/datasets/Validation_Dataset/FS_LostFound_full/images/*.png' --loadDir \"/content/anomaly-segmentation-for-road-scenes/trained_models/\" --q\n",
        "%run /content/anomaly-segmentation-for-road-scenes/eval/evalAnomaly.py --method='msp' --temperature=1.1 --input='/content/datasets/Validation_Dataset/FS_LostFound_full/images/*.png' --loadDir \"/content/anomaly-segmentation-for-road-scenes/trained_models/\" --q\n",
        "print(\"\")\n",
        "%run /content/anomaly-segmentation-for-road-scenes/eval/evalAnomaly.py --method='msp' --temperature=1 --input='/content/datasets/Validation_Dataset/fs_static/images/*.jpg' --loadDir \"/content/anomaly-segmentation-for-road-scenes/trained_models/\" --q\n",
        "%run /content/anomaly-segmentation-for-road-scenes/eval/evalAnomaly.py --method='msp' --temperature=0.5 --input='/content/datasets/Validation_Dataset/fs_static/images/*.jpg' --loadDir \"/content/anomaly-segmentation-for-road-scenes/trained_models/\" --q\n",
        "%run /content/anomaly-segmentation-for-road-scenes/eval/evalAnomaly.py --method='msp' --temperature=0.75 --input='/content/datasets/Validation_Dataset/fs_static/images/*.jpg' --loadDir \"/content/anomaly-segmentation-for-road-scenes/trained_models/\" --q\n",
        "%run /content/anomaly-segmentation-for-road-scenes/eval/evalAnomaly.py --method='msp' --temperature=1.1 --input='/content/datasets/Validation_Dataset/fs_static/images/*.jpg' --loadDir \"/content/anomaly-segmentation-for-road-scenes/trained_models/\" --q\n",
        "print(\"\")\n",
        "%run /content/anomaly-segmentation-for-road-scenes/eval/evalAnomaly.py --method='msp' --temperature=1 --input='/content/datasets/Validation_Dataset/RoadAnomaly/images/*.jpg' --loadDir \"/content/anomaly-segmentation-for-road-scenes/trained_models/\" --q\n",
        "%run /content/anomaly-segmentation-for-road-scenes/eval/evalAnomaly.py --method='msp' --temperature=0.5 --input='/content/datasets/Validation_Dataset/RoadAnomaly/images/*.jpg' --loadDir \"/content/anomaly-segmentation-for-road-scenes/trained_models/\" --q\n",
        "%run /content/anomaly-segmentation-for-road-scenes/eval/evalAnomaly.py --method='msp' --temperature=0.75 --input='/content/datasets/Validation_Dataset/RoadAnomaly/images/*.jpg' --loadDir \"/content/anomaly-segmentation-for-road-scenes/trained_models/\" --q\n",
        "%run /content/anomaly-segmentation-for-road-scenes/eval/evalAnomaly.py --method='msp' --temperature=1.1 --input='/content/datasets/Validation_Dataset/RoadAnomaly/images/*.jpg' --loadDir \"/content/anomaly-segmentation-for-road-scenes/trained_models/\" --q"
      ],
      "metadata": {
        "id": "BH7QjPeQ5mI6",
        "colab": {
          "base_uri": "https://localhost:8080/"
        },
        "outputId": "ba9795b8-6e2d-4c7d-a3a4-d80df67a06da"
      },
      "execution_count": null,
      "outputs": [
        {
          "output_type": "stream",
          "name": "stdout",
          "text": [
            "erfnet\tmsp\tRoadAnomaly21\tt=1.0\tAUPRC score: 35.87\tFPR@TPR95: 58.27\n",
            "erfnet\tmsp\tRoadAnomaly21\tt=0.5\tAUPRC score: 31.518\tFPR@TPR95: 57.037\n",
            "erfnet\tmsp\tRoadAnomaly21\tt=0.75\tAUPRC score: 33.836\tFPR@TPR95: 57.42\n",
            "erfnet\tmsp\tRoadAnomaly21\tt=1.1\tAUPRC score: 36.536\tFPR@TPR95: 58.701\n",
            "\n",
            "erfnet\tmsp\tRoadObsticle21\tt=1.0\tAUPRC score: 7.216\tFPR@TPR95: 25.474\n",
            "erfnet\tmsp\tRoadObsticle21\tt=0.5\tAUPRC score: 5.244\tFPR@TPR95: 26.255\n",
            "erfnet\tmsp\tRoadObsticle21\tt=0.75\tAUPRC score: 6.239\tFPR@TPR95: 25.686\n",
            "erfnet\tmsp\tRoadObsticle21\tt=1.1\tAUPRC score: 7.565\tFPR@TPR95: 25.421\n",
            "\n",
            "erfnet\tmsp\tFS_LostFound_fu\tt=1.0\tAUPRC score: 5.341\tFPR@TPR95: 50.414\n",
            "erfnet\tmsp\tFS_LostFound_fu\tt=0.5\tAUPRC score: 2.763\tFPR@TPR95: 54.555\n",
            "erfnet\tmsp\tFS_LostFound_fu\tt=0.75\tAUPRC score: 4.02\tFPR@TPR95: 51.459\n",
            "erfnet\tmsp\tFS_LostFound_fu\tt=1.1\tAUPRC score: 5.82\tFPR@TPR95: 50.011\n",
            "\n",
            "erfnet\tmsp\tfs_static\tt=1.0\tAUPRC score: 7.632\tFPR@TPR95: 40.172\n",
            "erfnet\tmsp\tfs_static\tt=0.5\tAUPRC score: 6.762\tFPR@TPR95: 41.271\n",
            "erfnet\tmsp\tfs_static\tt=0.75\tAUPRC score: 7.158\tFPR@TPR95: 40.601\n",
            "erfnet\tmsp\tfs_static\tt=1.1\tAUPRC score: 7.826\tFPR@TPR95: 40.116\n",
            "\n",
            "erfnet\tmsp\tRoadAnomaly\tt=1.0\tAUPRC score: 15.286\tFPR@TPR95: 76.208\n",
            "erfnet\tmsp\tRoadAnomaly\tt=0.5\tAUPRC score: 14.406\tFPR@TPR95: 76.434\n",
            "erfnet\tmsp\tRoadAnomaly\tt=0.75\tAUPRC score: 14.843\tFPR@TPR95: 76.283\n",
            "erfnet\tmsp\tRoadAnomaly\tt=1.1\tAUPRC score: 15.452\tFPR@TPR95: 76.207\n"
          ]
        }
      ]
    },
    {
      "cell_type": "markdown",
      "source": [
        "# Void classifier"
      ],
      "metadata": {
        "id": "xJUJLClpvF3B"
      }
    },
    {
      "cell_type": "code",
      "source": [
        "EVALFILE='/content/anomaly-segmentation-for-road-scenes/eval/evalAnomaly.py'\n",
        "VALDATASET='/content/datasets/Validation_Dataset'\n",
        "LOADDIR='/content/anomaly-segmentation-for-road-scenes/trained_models/'\n",
        "\n",
        "LOADWEIGHTS='enet_pretrained.pth'\n",
        "MODEL='enet'\n",
        "%run $EVALFILE --model=$MODEL --method='void' --input=$VALDATASET'/RoadAnomaly21/images/*.png' --loadDir=$LOADDIR  --loadWeights=$LOADWEIGHTS --q\n",
        "%run $EVALFILE --model=$MODEL --method='void' --input=$VALDATASET'/RoadObsticle21/images/*.webp' --loadDir=$LOADDIR  --loadWeights=$LOADWEIGHTS --q\n",
        "%run $EVALFILE --model=$MODEL --method='void' --input=$VALDATASET'/FS_LostFound_full/images/*.png' --loadDir=$LOADDIR  --loadWeights=$LOADWEIGHTS --q\n",
        "%run $EVALFILE --model=$MODEL --method='void' --input=$VALDATASET'/fs_static/images/*.jpg' --loadDir=$LOADDIR  --loadWeights=$LOADWEIGHTS --q\n",
        "%run $EVALFILE --model=$MODEL --method='void' --input=$VALDATASET'/RoadAnomaly/images/*.jpg' --loadDir=$LOADDIR  --loadWeights=$LOADWEIGHTS --q\n",
        "\n",
        "LOADWEIGHTS='erfnet_pretrained.pth'\n",
        "MODEL='erfnet'\n",
        "%run $EVALFILE --model=$MODEL --method='void' --input=$VALDATASET'/RoadAnomaly21/images/*.png' --loadDir=$LOADDIR  --loadWeights=$LOADWEIGHTS --q\n",
        "%run $EVALFILE --model=$MODEL --method='void' --input=$VALDATASET'/RoadObsticle21/images/*.webp' --loadDir=$LOADDIR  --loadWeights=$LOADWEIGHTS --q\n",
        "%run $EVALFILE --model=$MODEL --method='void' --input=$VALDATASET'/FS_LostFound_full/images/*.png' --loadDir=$LOADDIR  --loadWeights=$LOADWEIGHTS --q\n",
        "%run $EVALFILE --model=$MODEL --method='void' --input=$VALDATASET'/fs_static/images/*.jpg' --loadDir=$LOADDIR  --loadWeights=$LOADWEIGHTS --q\n",
        "%run $EVALFILE --model=$MODEL --method='void' --input=$VALDATASET'/RoadAnomaly/images/*.jpg' --loadDir=$LOADDIR  --loadWeights=$LOADWEIGHTS --q\n",
        "\n",
        "LOADWEIGHTS='bisenet_pretrained.pth'\n",
        "MODEL='bisenet'\n",
        "%run $EVALFILE --model=$MODEL --method='void' --input=$VALDATASET'/RoadAnomaly21/images/*.png' --loadDir=$LOADDIR  --loadWeights=$LOADWEIGHTS --q\n",
        "%run $EVALFILE --model=$MODEL --method='void' --input=$VALDATASET'/RoadObsticle21/images/*.webp' --loadDir=$LOADDIR  --loadWeights=$LOADWEIGHTS --q\n",
        "%run $EVALFILE --model=$MODEL --method='void' --input=$VALDATASET'/FS_LostFound_full/images/*.png' --loadDir=$LOADDIR  --loadWeights=$LOADWEIGHTS --q\n",
        "%run $EVALFILE --model=$MODEL --method='void' --input=$VALDATASET'/fs_static/images/*.jpg' --loadDir=$LOADDIR  --loadWeights=$LOADWEIGHTS --q\n",
        "%run $EVALFILE --model=$MODEL --method='void' --input=$VALDATASET'/RoadAnomaly/images/*.jpg' --loadDir=$LOADDIR  --loadWeights=$LOADWEIGHTS --q"
      ],
      "metadata": {
        "id": "2N2lkUp_K2gU",
        "colab": {
          "base_uri": "https://localhost:8080/"
        },
        "outputId": "eac9b555-be8e-4975-ed2d-b7b51ad9c48a"
      },
      "execution_count": null,
      "outputs": [
        {
          "output_type": "stream",
          "name": "stdout",
          "text": [
            "enet\tvoid\tRoadAnomaly21\tt=1\tAUPRC score: 14.749\tFPR@TPR95: 94.395\n",
            "enet\tvoid\tRoadObsticle21\tt=1\tAUPRC score: 2.196\tFPR@TPR95: 91.117\n",
            "enet\tvoid\tFS_LostFound_fu\tt=1\tAUPRC score: 1.412\tFPR@TPR95: 53.441\n",
            "enet\tvoid\tfs_static\tt=1\tAUPRC score: 10.231\tFPR@TPR95: 94.701\n",
            "enet\tvoid\tRoadAnomaly\tt=1\tAUPRC score: 9.793\tFPR@TPR95: 97.566\n",
            "erfnet\tvoid\tRoadAnomaly21\tt=1\tAUPRC score: 25.088\tFPR@TPR95: 69.459\n",
            "erfnet\tvoid\tRoadObsticle21\tt=1\tAUPRC score: 1.403\tFPR@TPR95: 44.423\n",
            "erfnet\tvoid\tFS_LostFound_fu\tt=1\tAUPRC score: 7.794\tFPR@TPR95: 30.083\n",
            "erfnet\tvoid\tfs_static\tt=1\tAUPRC score: 12.471\tFPR@TPR95: 32.933\n",
            "erfnet\tvoid\tRoadAnomaly\tt=1\tAUPRC score: 11.95\tFPR@TPR95: 86.182\n"
          ]
        },
        {
          "output_type": "stream",
          "name": "stderr",
          "text": [
            "Downloading: \"https://download.pytorch.org/models/resnet18-5c106cde.pth\" to /root/.cache/torch/hub/checkpoints/resnet18-5c106cde.pth\n",
            "100%|██████████| 44.7M/44.7M [00:00<00:00, 203MB/s]\n"
          ]
        },
        {
          "output_type": "stream",
          "name": "stdout",
          "text": [
            "bisenet\tvoid\tRoadAnomaly21\tt=1\tAUPRC score: 17.155\tFPR@TPR95: 84.613\n",
            "bisenet\tvoid\tRoadObsticle21\tt=1\tAUPRC score: 0.549\tFPR@TPR95: 99.463\n",
            "bisenet\tvoid\tFS_LostFound_fu\tt=1\tAUPRC score: 2.524\tFPR@TPR95: 59.873\n",
            "bisenet\tvoid\tfs_static\tt=1\tAUPRC score: 2.364\tFPR@TPR95: 76.184\n",
            "bisenet\tvoid\tRoadAnomaly\tt=1\tAUPRC score: 8.901\tFPR@TPR95: 91.573\n"
          ]
        }
      ]
    }
  ]
}