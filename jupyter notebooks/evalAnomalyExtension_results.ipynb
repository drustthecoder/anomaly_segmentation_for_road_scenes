{
  "nbformat": 4,
  "nbformat_minor": 0,
  "metadata": {
    "colab": {
      "provenance": [],
      "gpuType": "T4"
    },
    "kernelspec": {
      "name": "python3",
      "display_name": "Python 3"
    },
    "language_info": {
      "name": "python"
    },
    "accelerator": "GPU"
  },
  "cells": [
    {
      "cell_type": "code",
      "source": [
        "from google.colab import drive\n",
        "drive.mount('/content/drive')"
      ],
      "metadata": {
        "colab": {
          "base_uri": "https://localhost:8080/"
        },
        "id": "7RdaYrwybJP5",
        "outputId": "38322358-6b17-42de-91a5-744afb006472"
      },
      "execution_count": null,
      "outputs": [
        {
          "output_type": "stream",
          "name": "stdout",
          "text": [
            "Mounted at /content/drive\n"
          ]
        }
      ]
    },
    {
      "cell_type": "code",
      "source": [
        "!mkdir datasets"
      ],
      "metadata": {
        "id": "0H1DTSASHA4I"
      },
      "execution_count": null,
      "outputs": []
    },
    {
      "cell_type": "code",
      "execution_count": null,
      "metadata": {
        "colab": {
          "base_uri": "https://localhost:8080/"
        },
        "id": "1Dhvzw08Gme5",
        "outputId": "d369d89d-176b-46d0-c47f-023aba250746"
      },
      "outputs": [
        {
          "output_type": "stream",
          "name": "stdout",
          "text": [
            "Downloading...\n",
            "From (original): https://drive.google.com/uc?id=1T001SRx3JByNr95zDXp-ssZswUqB4qN5\n",
            "From (redirected): https://drive.google.com/uc?id=1T001SRx3JByNr95zDXp-ssZswUqB4qN5&confirm=t&uuid=d9db0834-286c-4c8e-9168-7d6935d23349\n",
            "To: /content/Validation_Dataset.zip\n",
            "100% 329M/329M [00:03<00:00, 99.6MB/s]\n"
          ]
        }
      ],
      "source": [
        "!gdown 1T001SRx3JByNr95zDXp-ssZswUqB4qN5\n",
        "!mv /content/Validation_Dataset.zip datasets\n",
        "!unzip -d datasets/ -qo /content/datasets/Validation_Dataset.zip"
      ]
    },
    {
      "cell_type": "code",
      "source": [
        "!git clone https://github.com/shayanit/anomaly-segmentation-for-road-scenes.git"
      ],
      "metadata": {
        "id": "pgOYbhgaHRL-",
        "colab": {
          "base_uri": "https://localhost:8080/"
        },
        "outputId": "dbd8f205-78b9-402f-c7ae-3ecdf6a15de6"
      },
      "execution_count": null,
      "outputs": [
        {
          "output_type": "stream",
          "name": "stdout",
          "text": [
            "Cloning into 'anomaly-segmentation-for-road-scenes'...\n",
            "remote: Enumerating objects: 806, done.\u001b[K\n",
            "remote: Counting objects: 100% (125/125), done.\u001b[K\n",
            "remote: Compressing objects: 100% (82/82), done.\u001b[K\n",
            "remote: Total 806 (delta 71), reused 95 (delta 43), pack-reused 681\u001b[K\n",
            "Receiving objects: 100% (806/806), 562.14 MiB | 39.17 MiB/s, done.\n",
            "Resolving deltas: 100% (189/189), done.\n"
          ]
        }
      ]
    },
    {
      "cell_type": "code",
      "source": [
        "!pip install -q ood_metrics"
      ],
      "metadata": {
        "id": "SwLFg2nzHivi"
      },
      "execution_count": null,
      "outputs": []
    },
    {
      "cell_type": "code",
      "source": [
        "import warnings\n",
        "warnings.filterwarnings(\"ignore\", category=UserWarning)"
      ],
      "metadata": {
        "id": "YUIfD0ghhd_J"
      },
      "execution_count": null,
      "outputs": []
    },
    {
      "cell_type": "code",
      "source": [
        "# EVALFILE='/content/anomaly-segmentation-for-road-scenes/eval/evalAnomalyExtension.py'\n",
        "# VALDATASET='/content/datasets/Validation_Dataset'\n",
        "\n",
        "# LOADWEIGHTS=\"barlowtwins-frozen.pth\"\n",
        "# !echo \"FROZEN:\"\n",
        "# %run $EVALFILE --method=\"msp\" --input=$VALDATASET'/RoadAnomaly21/images/*.png' --loadWeights $LOADWEIGHTS"
      ],
      "metadata": {
        "id": "iyjbby3n5wJF"
      },
      "execution_count": null,
      "outputs": []
    },
    {
      "cell_type": "markdown",
      "source": [
        "# BarlowTwins - MSP, Maxlogit, Maxentropy, Void classifier"
      ],
      "metadata": {
        "id": "y0uQMJUtuQ1J"
      }
    },
    {
      "cell_type": "code",
      "source": [
        "EVALFILE='/content/anomaly-segmentation-for-road-scenes/eval/evalAnomalyExtension.py'\n",
        "VALDATASET='/content/datasets/Validation_Dataset'\n",
        "\n",
        "LOADWEIGHTS=\"barlowtwins-frozen.pth\"\n",
        "!echo \"FROZEN:\"\n",
        "%run $EVALFILE --method=\"msp\" --input=$VALDATASET'/RoadAnomaly21/images/*.png' --loadWeights $LOADWEIGHTS --q\n",
        "%run $EVALFILE --method=\"msp\" --input=$VALDATASET'/RoadObsticle21/images/*.webp' --loadWeights $LOADWEIGHTS --q\n",
        "%run $EVALFILE --method=\"msp\" --input=$VALDATASET'/FS_LostFound_full/images/*.png' --loadWeights $LOADWEIGHTS --q\n",
        "%run $EVALFILE --method=\"msp\" --input=$VALDATASET'/fs_static/images/*.jpg' --loadWeights $LOADWEIGHTS --q\n",
        "%run $EVALFILE --method=\"msp\" --input=$VALDATASET'/RoadAnomaly/images/*.jpg' --loadWeights $LOADWEIGHTS --q\n",
        "%run $EVALFILE --method=\"maxlogit\" --input=$VALDATASET'/RoadAnomaly21/images/*.png' --loadWeights $LOADWEIGHTS --q\n",
        "%run $EVALFILE --method=\"maxlogit\" --input=$VALDATASET'/RoadObsticle21/images/*.webp' --loadWeights $LOADWEIGHTS --q\n",
        "%run $EVALFILE --method=\"maxlogit\" --input=$VALDATASET'/FS_LostFound_full/images/*.png' --loadWeights $LOADWEIGHTS --q\n",
        "%run $EVALFILE --method=\"maxlogit\" --input=$VALDATASET'/fs_static/images/*.jpg' --loadWeights $LOADWEIGHTS --q\n",
        "%run $EVALFILE --method=\"maxlogit\" --input=$VALDATASET'/RoadAnomaly/images/*.jpg' --loadWeights $LOADWEIGHTS --q\n",
        "%run $EVALFILE --method=\"maxentropy\" --input=$VALDATASET'/RoadAnomaly21/images/*.png' --loadWeights $LOADWEIGHTS --q\n",
        "%run $EVALFILE --method=\"maxentropy\" --input=$VALDATASET'/RoadObsticle21/images/*.webp' --loadWeights $LOADWEIGHTS --q\n",
        "%run $EVALFILE --method=\"maxentropy\" --input=$VALDATASET'/FS_LostFound_full/images/*.png' --loadWeights $LOADWEIGHTS --q\n",
        "%run $EVALFILE --method=\"maxentropy\" --input=$VALDATASET'/fs_static/images/*.jpg' --loadWeights $LOADWEIGHTS --q\n",
        "%run $EVALFILE --method=\"maxentropy\" --input=$VALDATASET'/RoadAnomaly/images/*.jpg' --loadWeights $LOADWEIGHTS --q\n",
        "\n",
        "%run $EVALFILE --method='void' --input=$VALDATASET'/RoadAnomaly21/images/*.png'  --loadWeights=$LOADWEIGHTS --q\n",
        "%run $EVALFILE --method='void' --input=$VALDATASET'/RoadObsticle21/images/*.webp'  --loadWeights=$LOADWEIGHTS --q\n",
        "%run $EVALFILE --method='void' --input=$VALDATASET'/FS_LostFound_full/images/*.png'  --loadWeights=$LOADWEIGHTS --q\n",
        "%run $EVALFILE --method='void' --input=$VALDATASET'/fs_static/images/*.jpg'  --loadWeights=$LOADWEIGHTS --q\n",
        "%run $EVALFILE --method='void' --input=$VALDATASET'/RoadAnomaly/images/*.jpg'  --loadWeights=$LOADWEIGHTS --q\n",
        "\n",
        "LOADWEIGHTS=\"barlowtwins-unfrozen.pth\"\n",
        "!echo \"\\nUNFROZEN:\"\n",
        "%run $EVALFILE --method=\"msp\" --input=$VALDATASET'/RoadAnomaly21/images/*.png' --loadWeights $LOADWEIGHTS --q\n",
        "%run $EVALFILE --method=\"msp\" --input=$VALDATASET'/RoadObsticle21/images/*.webp' --loadWeights $LOADWEIGHTS --q\n",
        "%run $EVALFILE --method=\"msp\" --input=$VALDATASET'/FS_LostFound_full/images/*.png' --loadWeights $LOADWEIGHTS --q\n",
        "%run $EVALFILE --method=\"msp\" --input=$VALDATASET'/fs_static/images/*.jpg' --loadWeights $LOADWEIGHTS --q\n",
        "%run $EVALFILE --method=\"msp\" --input=$VALDATASET'/RoadAnomaly/images/*.jpg' --loadWeights $LOADWEIGHTS --q\n",
        "%run $EVALFILE --method=\"maxlogit\" --input=$VALDATASET'/RoadAnomaly21/images/*.png' --loadWeights $LOADWEIGHTS --q\n",
        "%run $EVALFILE --method=\"maxlogit\" --input=$VALDATASET'/RoadObsticle21/images/*.webp' --loadWeights $LOADWEIGHTS --q\n",
        "%run $EVALFILE --method=\"maxlogit\" --input=$VALDATASET'/FS_LostFound_full/images/*.png' --loadWeights $LOADWEIGHTS --q\n",
        "%run $EVALFILE --method=\"maxlogit\" --input=$VALDATASET'/fs_static/images/*.jpg' --loadWeights $LOADWEIGHTS --q\n",
        "%run $EVALFILE --method=\"maxlogit\" --input=$VALDATASET'/RoadAnomaly/images/*.jpg' --loadWeights $LOADWEIGHTS --q\n",
        "%run $EVALFILE --method=\"maxentropy\" --input=$VALDATASET'/RoadAnomaly21/images/*.png' --loadWeights $LOADWEIGHTS --q\n",
        "%run $EVALFILE --method=\"maxentropy\" --input=$VALDATASET'/RoadObsticle21/images/*.webp' --loadWeights $LOADWEIGHTS --q\n",
        "%run $EVALFILE --method=\"maxentropy\" --input=$VALDATASET'/FS_LostFound_full/images/*.png' --loadWeights $LOADWEIGHTS --q\n",
        "%run $EVALFILE --method=\"maxentropy\" --input=$VALDATASET'/fs_static/images/*.jpg' --loadWeights $LOADWEIGHTS --q\n",
        "%run $EVALFILE --method=\"maxentropy\" --input=$VALDATASET'/RoadAnomaly/images/*.jpg' --loadWeights $LOADWEIGHTS --q\n",
        "\n",
        "%run $EVALFILE --method='void' --input=$VALDATASET'/RoadAnomaly21/images/*.png'  --loadWeights=$LOADWEIGHTS --q\n",
        "%run $EVALFILE --method='void' --input=$VALDATASET'/RoadObsticle21/images/*.webp'  --loadWeights=$LOADWEIGHTS --q\n",
        "%run $EVALFILE --method='void' --input=$VALDATASET'/FS_LostFound_full/images/*.png'  --loadWeights=$LOADWEIGHTS --q\n",
        "%run $EVALFILE --method='void' --input=$VALDATASET'/fs_static/images/*.jpg'  --loadWeights=$LOADWEIGHTS --q\n",
        "%run $EVALFILE --method='void' --input=$VALDATASET'/RoadAnomaly/images/*.jpg'  --loadWeights=$LOADWEIGHTS --q"
      ],
      "metadata": {
        "colab": {
          "base_uri": "https://localhost:8080/"
        },
        "id": "Q-COGmBvd7SO",
        "outputId": "dee904cb-1568-424e-9f01-1ae0ea130f76"
      },
      "execution_count": null,
      "outputs": [
        {
          "output_type": "stream",
          "name": "stdout",
          "text": [
            "FROZEN:\n",
            "barlowtwins-frozen.pth\tmsp\tRoadAnomaly21\tt=1\tAUPRC score: 14.972\tFPR@TPR95: 90.09\n",
            "barlowtwins-frozen.pth\tmsp\tRoadObsticle21\tt=1\tAUPRC score: 0.719\tFPR@TPR95: 98.298\n",
            "barlowtwins-frozen.pth\tmsp\tFS_LostFound_fu\tt=1\tAUPRC score: 0.375\tFPR@TPR95: 94.481\n",
            "barlowtwins-frozen.pth\tmsp\tfs_static\tt=1\tAUPRC score: 2.369\tFPR@TPR95: 85.318\n",
            "barlowtwins-frozen.pth\tmsp\tRoadAnomaly\tt=1\tAUPRC score: 11.854\tFPR@TPR95: 86.922\n",
            "barlowtwins-frozen.pth\tmaxlogit\tRoadAnomaly21\tt=1\tAUPRC score: 11.563\tFPR@TPR95: 94.34\n",
            "barlowtwins-frozen.pth\tmaxlogit\tRoadObsticle21\tt=1\tAUPRC score: 0.736\tFPR@TPR95: 98.967\n",
            "barlowtwins-frozen.pth\tmaxlogit\tFS_LostFound_fu\tt=1\tAUPRC score: 0.359\tFPR@TPR95: 95.766\n",
            "barlowtwins-frozen.pth\tmaxlogit\tfs_static\tt=1\tAUPRC score: 1.949\tFPR@TPR95: 83.32\n",
            "barlowtwins-frozen.pth\tmaxlogit\tRoadAnomaly\tt=1\tAUPRC score: 10.484\tFPR@TPR95: 92.316\n",
            "barlowtwins-frozen.pth\tmaxentropy\tRoadAnomaly21\tt=1\tAUPRC score: 12.205\tFPR@TPR95: 90.454\n",
            "barlowtwins-frozen.pth\tmaxentropy\tRoadObsticle21\tt=1\tAUPRC score: 0.637\tFPR@TPR95: 98.697\n",
            "barlowtwins-frozen.pth\tmaxentropy\tFS_LostFound_fu\tt=1\tAUPRC score: 0.499\tFPR@TPR95: 94.398\n",
            "barlowtwins-frozen.pth\tmaxentropy\tfs_static\tt=1\tAUPRC score: 2.147\tFPR@TPR95: 85.182\n",
            "barlowtwins-frozen.pth\tmaxentropy\tRoadAnomaly\tt=1\tAUPRC score: 10.757\tFPR@TPR95: 88.089\n",
            "barlowtwins-frozen.pth\tvoid\tRoadAnomaly21\tt=1\tAUPRC score: 18.816\tFPR@TPR95: 93.374\n",
            "barlowtwins-frozen.pth\tvoid\tRoadObsticle21\tt=1\tAUPRC score: 0.631\tFPR@TPR95: 98.381\n",
            "barlowtwins-frozen.pth\tvoid\tFS_LostFound_fu\tt=1\tAUPRC score: 0.856\tFPR@TPR95: 92.363\n",
            "barlowtwins-frozen.pth\tvoid\tfs_static\tt=1\tAUPRC score: 1.469\tFPR@TPR95: 84.091\n",
            "barlowtwins-frozen.pth\tvoid\tRoadAnomaly\tt=1\tAUPRC score: 12.121\tFPR@TPR95: 88.887\n",
            "\\nUNFROZEN:\n",
            "barlowtwins-unfrozen.pth\tmsp\tRoadAnomaly21\tt=1\tAUPRC score: 20.248\tFPR@TPR95: 88.728\n",
            "barlowtwins-unfrozen.pth\tmsp\tRoadObsticle21\tt=1\tAUPRC score: 0.891\tFPR@TPR95: 97.019\n",
            "barlowtwins-unfrozen.pth\tmsp\tFS_LostFound_fu\tt=1\tAUPRC score: 0.398\tFPR@TPR95: 94.022\n",
            "barlowtwins-unfrozen.pth\tmsp\tfs_static\tt=1\tAUPRC score: 2.782\tFPR@TPR95: 82.831\n",
            "barlowtwins-unfrozen.pth\tmsp\tRoadAnomaly\tt=1\tAUPRC score: 14.957\tFPR@TPR95: 84.467\n",
            "barlowtwins-unfrozen.pth\tmaxlogit\tRoadAnomaly21\tt=1\tAUPRC score: 15.375\tFPR@TPR95: 91.437\n",
            "barlowtwins-unfrozen.pth\tmaxlogit\tRoadObsticle21\tt=1\tAUPRC score: 0.799\tFPR@TPR95: 99.034\n",
            "barlowtwins-unfrozen.pth\tmaxlogit\tFS_LostFound_fu\tt=1\tAUPRC score: 0.375\tFPR@TPR95: 95.161\n",
            "barlowtwins-unfrozen.pth\tmaxlogit\tfs_static\tt=1\tAUPRC score: 2.634\tFPR@TPR95: 81.574\n",
            "barlowtwins-unfrozen.pth\tmaxlogit\tRoadAnomaly\tt=1\tAUPRC score: 14.553\tFPR@TPR95: 88.595\n",
            "barlowtwins-unfrozen.pth\tmaxentropy\tRoadAnomaly21\tt=1\tAUPRC score: 16.048\tFPR@TPR95: 88.367\n",
            "barlowtwins-unfrozen.pth\tmaxentropy\tRoadObsticle21\tt=1\tAUPRC score: 0.731\tFPR@TPR95: 97.566\n",
            "barlowtwins-unfrozen.pth\tmaxentropy\tFS_LostFound_fu\tt=1\tAUPRC score: 0.396\tFPR@TPR95: 94.122\n",
            "barlowtwins-unfrozen.pth\tmaxentropy\tfs_static\tt=1\tAUPRC score: 3.115\tFPR@TPR95: 82.69\n",
            "barlowtwins-unfrozen.pth\tmaxentropy\tRoadAnomaly\tt=1\tAUPRC score: 15.289\tFPR@TPR95: 85.688\n",
            "barlowtwins-unfrozen.pth\tvoid\tRoadAnomaly21\tt=1\tAUPRC score: 18.719\tFPR@TPR95: 92.439\n",
            "barlowtwins-unfrozen.pth\tvoid\tRoadObsticle21\tt=1\tAUPRC score: 0.608\tFPR@TPR95: 97.724\n",
            "barlowtwins-unfrozen.pth\tvoid\tFS_LostFound_fu\tt=1\tAUPRC score: 0.901\tFPR@TPR95: 90.231\n",
            "barlowtwins-unfrozen.pth\tvoid\tfs_static\tt=1\tAUPRC score: 1.538\tFPR@TPR95: 82.904\n",
            "barlowtwins-unfrozen.pth\tvoid\tRoadAnomaly\tt=1\tAUPRC score: 12.304\tFPR@TPR95: 86.395\n"
          ]
        }
      ]
    },
    {
      "cell_type": "code",
      "source": [],
      "metadata": {
        "id": "46SkhZbqdZgI"
      },
      "execution_count": null,
      "outputs": []
    },
    {
      "cell_type": "markdown",
      "source": [
        "# MoCo - MSP, Maxlogit, Maxentropy, Void classifier"
      ],
      "metadata": {
        "id": "4tzGBmgXCbIl"
      }
    },
    {
      "cell_type": "code",
      "source": [
        "EVALFILE='/content/anomaly-segmentation-for-road-scenes/eval/evalAnomalyExtension.py'\n",
        "VALDATASET='/content/datasets/Validation_Dataset'\n",
        "\n",
        "LOADWEIGHTS=\"moco-frozen.pth\"\n",
        "!echo \"FROZEN:\"\n",
        "%run $EVALFILE --method=\"msp\" --input=$VALDATASET'/RoadAnomaly21/images/*.png' --loadWeights $LOADWEIGHTS --q\n",
        "%run $EVALFILE --method=\"msp\" --input=$VALDATASET'/RoadObsticle21/images/*.webp' --loadWeights $LOADWEIGHTS --q\n",
        "%run $EVALFILE --method=\"msp\" --input=$VALDATASET'/FS_LostFound_full/images/*.png' --loadWeights $LOADWEIGHTS --q\n",
        "%run $EVALFILE --method=\"msp\" --input=$VALDATASET'/fs_static/images/*.jpg' --loadWeights $LOADWEIGHTS --q\n",
        "%run $EVALFILE --method=\"msp\" --input=$VALDATASET'/RoadAnomaly/images/*.jpg' --loadWeights $LOADWEIGHTS --q\n",
        "%run $EVALFILE --method=\"maxlogit\" --input=$VALDATASET'/RoadAnomaly21/images/*.png' --loadWeights $LOADWEIGHTS --q\n",
        "%run $EVALFILE --method=\"maxlogit\" --input=$VALDATASET'/RoadObsticle21/images/*.webp' --loadWeights $LOADWEIGHTS --q\n",
        "%run $EVALFILE --method=\"maxlogit\" --input=$VALDATASET'/FS_LostFound_full/images/*.png' --loadWeights $LOADWEIGHTS --q\n",
        "%run $EVALFILE --method=\"maxlogit\" --input=$VALDATASET'/fs_static/images/*.jpg' --loadWeights $LOADWEIGHTS --q\n",
        "%run $EVALFILE --method=\"maxlogit\" --input=$VALDATASET'/RoadAnomaly/images/*.jpg' --loadWeights $LOADWEIGHTS --q\n",
        "%run $EVALFILE --method=\"maxentropy\" --input=$VALDATASET'/RoadAnomaly21/images/*.png' --loadWeights $LOADWEIGHTS --q\n",
        "%run $EVALFILE --method=\"maxentropy\" --input=$VALDATASET'/RoadObsticle21/images/*.webp' --loadWeights $LOADWEIGHTS --q\n",
        "%run $EVALFILE --method=\"maxentropy\" --input=$VALDATASET'/FS_LostFound_full/images/*.png' --loadWeights $LOADWEIGHTS --q\n",
        "%run $EVALFILE --method=\"maxentropy\" --input=$VALDATASET'/fs_static/images/*.jpg' --loadWeights $LOADWEIGHTS --q\n",
        "%run $EVALFILE --method=\"maxentropy\" --input=$VALDATASET'/RoadAnomaly/images/*.jpg' --loadWeights $LOADWEIGHTS --q\n",
        "\n",
        "%run $EVALFILE --method='void' --input=$VALDATASET'/RoadAnomaly21/images/*.png'  --loadWeights=$LOADWEIGHTS --q\n",
        "%run $EVALFILE --method='void' --input=$VALDATASET'/RoadObsticle21/images/*.webp'  --loadWeights=$LOADWEIGHTS --q\n",
        "%run $EVALFILE --method='void' --input=$VALDATASET'/FS_LostFound_full/images/*.png'  --loadWeights=$LOADWEIGHTS --q\n",
        "%run $EVALFILE --method='void' --input=$VALDATASET'/fs_static/images/*.jpg'  --loadWeights=$LOADWEIGHTS --q\n",
        "%run $EVALFILE --method='void' --input=$VALDATASET'/RoadAnomaly/images/*.jpg'  --loadWeights=$LOADWEIGHTS --q\n",
        "\n",
        "LOADWEIGHTS=\"moco-unfrozen.pth\"\n",
        "!echo \"\\nUNFROZEN:\"\n",
        "%run $EVALFILE --method=\"msp\" --input=$VALDATASET'/RoadAnomaly21/images/*.png' --loadWeights $LOADWEIGHTS --q\n",
        "%run $EVALFILE --method=\"msp\" --input=$VALDATASET'/RoadObsticle21/images/*.webp' --loadWeights $LOADWEIGHTS --q\n",
        "%run $EVALFILE --method=\"msp\" --input=$VALDATASET'/FS_LostFound_full/images/*.png' --loadWeights $LOADWEIGHTS --q\n",
        "%run $EVALFILE --method=\"msp\" --input=$VALDATASET'/fs_static/images/*.jpg' --loadWeights $LOADWEIGHTS --q\n",
        "%run $EVALFILE --method=\"msp\" --input=$VALDATASET'/RoadAnomaly/images/*.jpg' --loadWeights $LOADWEIGHTS --q\n",
        "%run $EVALFILE --method=\"maxlogit\" --input=$VALDATASET'/RoadAnomaly21/images/*.png' --loadWeights $LOADWEIGHTS --q\n",
        "%run $EVALFILE --method=\"maxlogit\" --input=$VALDATASET'/RoadObsticle21/images/*.webp' --loadWeights $LOADWEIGHTS --q\n",
        "%run $EVALFILE --method=\"maxlogit\" --input=$VALDATASET'/FS_LostFound_full/images/*.png' --loadWeights $LOADWEIGHTS --q\n",
        "%run $EVALFILE --method=\"maxlogit\" --input=$VALDATASET'/fs_static/images/*.jpg' --loadWeights $LOADWEIGHTS --q\n",
        "%run $EVALFILE --method=\"maxlogit\" --input=$VALDATASET'/RoadAnomaly/images/*.jpg' --loadWeights $LOADWEIGHTS --q\n",
        "%run $EVALFILE --method=\"maxentropy\" --input=$VALDATASET'/RoadAnomaly21/images/*.png' --loadWeights $LOADWEIGHTS --q\n",
        "%run $EVALFILE --method=\"maxentropy\" --input=$VALDATASET'/RoadObsticle21/images/*.webp' --loadWeights $LOADWEIGHTS --q\n",
        "%run $EVALFILE --method=\"maxentropy\" --input=$VALDATASET'/FS_LostFound_full/images/*.png' --loadWeights $LOADWEIGHTS --q\n",
        "%run $EVALFILE --method=\"maxentropy\" --input=$VALDATASET'/fs_static/images/*.jpg' --loadWeights $LOADWEIGHTS --q\n",
        "%run $EVALFILE --method=\"maxentropy\" --input=$VALDATASET'/RoadAnomaly/images/*.jpg' --loadWeights $LOADWEIGHTS --q\n",
        "\n",
        "%run $EVALFILE --method='void' --input=$VALDATASET'/RoadAnomaly21/images/*.png'  --loadWeights=$LOADWEIGHTS --q\n",
        "%run $EVALFILE --method='void' --input=$VALDATASET'/RoadObsticle21/images/*.webp'  --loadWeights=$LOADWEIGHTS --q\n",
        "%run $EVALFILE --method='void' --input=$VALDATASET'/FS_LostFound_full/images/*.png'  --loadWeights=$LOADWEIGHTS --q\n",
        "%run $EVALFILE --method='void' --input=$VALDATASET'/fs_static/images/*.jpg'  --loadWeights=$LOADWEIGHTS --q\n",
        "%run $EVALFILE --method='void' --input=$VALDATASET'/RoadAnomaly/images/*.jpg'  --loadWeights=$LOADWEIGHTS --q"
      ],
      "metadata": {
        "colab": {
          "base_uri": "https://localhost:8080/"
        },
        "outputId": "ba7928e7-44e5-4275-d54c-87481743d4e8",
        "id": "m9hfyyd-C-GR"
      },
      "execution_count": null,
      "outputs": [
        {
          "output_type": "stream",
          "name": "stdout",
          "text": [
            "FROZEN:\n",
            "moco-frozen.pth\tmsp\tRoadAnomaly21\tt=1\tAUPRC score: 16.863\tFPR@TPR95: 97.655\n",
            "moco-frozen.pth\tmsp\tRoadObsticle21\tt=1\tAUPRC score: 2.185\tFPR@TPR95: 59.191\n",
            "moco-frozen.pth\tmsp\tFS_LostFound_fu\tt=1\tAUPRC score: 0.59\tFPR@TPR95: 94.417\n",
            "moco-frozen.pth\tmsp\tfs_static\tt=1\tAUPRC score: 2.369\tFPR@TPR95: 85.888\n",
            "moco-frozen.pth\tmsp\tRoadAnomaly\tt=1\tAUPRC score: 14.658\tFPR@TPR95: 87.484\n",
            "moco-frozen.pth\tmaxlogit\tRoadAnomaly21\tt=1\tAUPRC score: 15.076\tFPR@TPR95: 94.034\n",
            "moco-frozen.pth\tmaxlogit\tRoadObsticle21\tt=1\tAUPRC score: 2.202\tFPR@TPR95: 70.417\n",
            "moco-frozen.pth\tmaxlogit\tFS_LostFound_fu\tt=1\tAUPRC score: 0.626\tFPR@TPR95: 87.721\n",
            "moco-frozen.pth\tmaxlogit\tfs_static\tt=1\tAUPRC score: 2.795\tFPR@TPR95: 84.057\n",
            "moco-frozen.pth\tmaxlogit\tRoadAnomaly\tt=1\tAUPRC score: 12.44\tFPR@TPR95: 87.423\n",
            "moco-frozen.pth\tmaxentropy\tRoadAnomaly21\tt=1\tAUPRC score: 15.99\tFPR@TPR95: 96.376\n",
            "moco-frozen.pth\tmaxentropy\tRoadObsticle21\tt=1\tAUPRC score: 2.213\tFPR@TPR95: 60.815\n",
            "moco-frozen.pth\tmaxentropy\tFS_LostFound_fu\tt=1\tAUPRC score: 0.699\tFPR@TPR95: 93.725\n",
            "moco-frozen.pth\tmaxentropy\tfs_static\tt=1\tAUPRC score: 2.688\tFPR@TPR95: 82.316\n",
            "moco-frozen.pth\tmaxentropy\tRoadAnomaly\tt=1\tAUPRC score: 13.737\tFPR@TPR95: 87.021\n",
            "moco-frozen.pth\tvoid\tRoadAnomaly21\tt=1\tAUPRC score: 12.228\tFPR@TPR95: 98.667\n",
            "moco-frozen.pth\tvoid\tRoadObsticle21\tt=1\tAUPRC score: 0.585\tFPR@TPR95: 95.795\n",
            "moco-frozen.pth\tvoid\tFS_LostFound_fu\tt=1\tAUPRC score: 0.801\tFPR@TPR95: 88.104\n",
            "moco-frozen.pth\tvoid\tfs_static\tt=1\tAUPRC score: 1.241\tFPR@TPR95: 84.033\n",
            "moco-frozen.pth\tvoid\tRoadAnomaly\tt=1\tAUPRC score: 8.397\tFPR@TPR95: 92.567\n",
            "\\nUNFROZEN:\n",
            "moco-unfrozen.pth\tmsp\tRoadAnomaly21\tt=1\tAUPRC score: 23.477\tFPR@TPR95: 72.525\n",
            "moco-unfrozen.pth\tmsp\tRoadObsticle21\tt=1\tAUPRC score: 2.531\tFPR@TPR95: 76.15\n",
            "moco-unfrozen.pth\tmsp\tFS_LostFound_fu\tt=1\tAUPRC score: 0.467\tFPR@TPR95: 94.15\n",
            "moco-unfrozen.pth\tmsp\tfs_static\tt=1\tAUPRC score: 4.129\tFPR@TPR95: 80.262\n",
            "moco-unfrozen.pth\tmsp\tRoadAnomaly\tt=1\tAUPRC score: 15.191\tFPR@TPR95: 73.005\n",
            "moco-unfrozen.pth\tmaxlogit\tRoadAnomaly21\tt=1\tAUPRC score: 25.983\tFPR@TPR95: 70.612\n",
            "moco-unfrozen.pth\tmaxlogit\tRoadObsticle21\tt=1\tAUPRC score: 2.438\tFPR@TPR95: 64.148\n",
            "moco-unfrozen.pth\tmaxlogit\tFS_LostFound_fu\tt=1\tAUPRC score: 0.482\tFPR@TPR95: 92.731\n",
            "moco-unfrozen.pth\tmaxlogit\tfs_static\tt=1\tAUPRC score: 3.24\tFPR@TPR95: 70.116\n",
            "moco-unfrozen.pth\tmaxlogit\tRoadAnomaly\tt=1\tAUPRC score: 17.156\tFPR@TPR95: 71.747\n",
            "moco-unfrozen.pth\tmaxentropy\tRoadAnomaly21\tt=1\tAUPRC score: 26.777\tFPR@TPR95: 72.328\n",
            "moco-unfrozen.pth\tmaxentropy\tRoadObsticle21\tt=1\tAUPRC score: 2.509\tFPR@TPR95: 74.443\n",
            "moco-unfrozen.pth\tmaxentropy\tFS_LostFound_fu\tt=1\tAUPRC score: 0.489\tFPR@TPR95: 94.181\n",
            "moco-unfrozen.pth\tmaxentropy\tfs_static\tt=1\tAUPRC score: 4.215\tFPR@TPR95: 79.009\n",
            "moco-unfrozen.pth\tmaxentropy\tRoadAnomaly\tt=1\tAUPRC score: 16.762\tFPR@TPR95: 72.405\n",
            "moco-unfrozen.pth\tvoid\tRoadAnomaly21\tt=1\tAUPRC score: 15.624\tFPR@TPR95: 88.244\n",
            "moco-unfrozen.pth\tvoid\tRoadObsticle21\tt=1\tAUPRC score: 0.958\tFPR@TPR95: 86.559\n",
            "moco-unfrozen.pth\tvoid\tFS_LostFound_fu\tt=1\tAUPRC score: 0.984\tFPR@TPR95: 86.151\n",
            "moco-unfrozen.pth\tvoid\tfs_static\tt=1\tAUPRC score: 1.977\tFPR@TPR95: 70.182\n",
            "moco-unfrozen.pth\tvoid\tRoadAnomaly\tt=1\tAUPRC score: 10.273\tFPR@TPR95: 87.074\n"
          ]
        }
      ]
    },
    {
      "cell_type": "markdown",
      "source": [
        "# SimSiam - MSP, Maxlogit, Maxentropy, Void classifier"
      ],
      "metadata": {
        "id": "FEh0gYXNDbab"
      }
    },
    {
      "cell_type": "code",
      "source": [
        "EVALFILE='/content/anomaly-segmentation-for-road-scenes/eval/evalAnomalyExtension.py'\n",
        "VALDATASET='/content/datasets/Validation_Dataset'\n",
        "\n",
        "LOADWEIGHTS=\"simsiam-frozen.pth\"\n",
        "%run $EVALFILE --method=\"msp\" --input=$VALDATASET'/RoadAnomaly21/images/*.png' --loadWeights $LOADWEIGHTS --q\n",
        "%run $EVALFILE --method=\"msp\" --input=$VALDATASET'/RoadObsticle21/images/*.webp' --loadWeights $LOADWEIGHTS --q\n",
        "%run $EVALFILE --method=\"msp\" --input=$VALDATASET'/FS_LostFound_full/images/*.png' --loadWeights $LOADWEIGHTS --q\n",
        "%run $EVALFILE --method=\"msp\" --input=$VALDATASET'/fs_static/images/*.jpg' --loadWeights $LOADWEIGHTS --q\n",
        "%run $EVALFILE --method=\"msp\" --input=$VALDATASET'/RoadAnomaly/images/*.jpg' --loadWeights $LOADWEIGHTS --q\n",
        "%run $EVALFILE --method=\"maxlogit\" --input=$VALDATASET'/RoadAnomaly21/images/*.png' --loadWeights $LOADWEIGHTS --q\n",
        "%run $EVALFILE --method=\"maxlogit\" --input=$VALDATASET'/RoadObsticle21/images/*.webp' --loadWeights $LOADWEIGHTS --q\n",
        "%run $EVALFILE --method=\"maxlogit\" --input=$VALDATASET'/FS_LostFound_full/images/*.png' --loadWeights $LOADWEIGHTS --q\n",
        "%run $EVALFILE --method=\"maxlogit\" --input=$VALDATASET'/fs_static/images/*.jpg' --loadWeights $LOADWEIGHTS --q\n",
        "%run $EVALFILE --method=\"maxlogit\" --input=$VALDATASET'/RoadAnomaly/images/*.jpg' --loadWeights $LOADWEIGHTS --q\n",
        "%run $EVALFILE --method=\"maxentropy\" --input=$VALDATASET'/RoadAnomaly21/images/*.png' --loadWeights $LOADWEIGHTS --q\n",
        "%run $EVALFILE --method=\"maxentropy\" --input=$VALDATASET'/RoadObsticle21/images/*.webp' --loadWeights $LOADWEIGHTS --q\n",
        "%run $EVALFILE --method=\"maxentropy\" --input=$VALDATASET'/FS_LostFound_full/images/*.png' --loadWeights $LOADWEIGHTS --q\n",
        "%run $EVALFILE --method=\"maxentropy\" --input=$VALDATASET'/fs_static/images/*.jpg' --loadWeights $LOADWEIGHTS --q\n",
        "%run $EVALFILE --method=\"maxentropy\" --input=$VALDATASET'/RoadAnomaly/images/*.jpg' --loadWeights $LOADWEIGHTS --q\n",
        "\n",
        "%run $EVALFILE --method='void' --input=$VALDATASET'/RoadAnomaly21/images/*.png'  --loadWeights=$LOADWEIGHTS --q\n",
        "%run $EVALFILE --method='void' --input=$VALDATASET'/RoadObsticle21/images/*.webp'  --loadWeights=$LOADWEIGHTS --q\n",
        "%run $EVALFILE --method='void' --input=$VALDATASET'/FS_LostFound_full/images/*.png'  --loadWeights=$LOADWEIGHTS --q\n",
        "%run $EVALFILE --method='void' --input=$VALDATASET'/fs_static/images/*.jpg'  --loadWeights=$LOADWEIGHTS --q\n",
        "%run $EVALFILE --method='void' --input=$VALDATASET'/RoadAnomaly/images/*.jpg'  --loadWeights=$LOADWEIGHTS --q\n",
        "\n",
        "LOADWEIGHTS=\"simsiam-unfrozen.pth\"\n",
        "%run $EVALFILE --method=\"msp\" --input=$VALDATASET'/RoadAnomaly21/images/*.png' --loadWeights $LOADWEIGHTS --q\n",
        "%run $EVALFILE --method=\"msp\" --input=$VALDATASET'/RoadObsticle21/images/*.webp' --loadWeights $LOADWEIGHTS --q\n",
        "%run $EVALFILE --method=\"msp\" --input=$VALDATASET'/FS_LostFound_full/images/*.png' --loadWeights $LOADWEIGHTS --q\n",
        "%run $EVALFILE --method=\"msp\" --input=$VALDATASET'/fs_static/images/*.jpg' --loadWeights $LOADWEIGHTS --q\n",
        "%run $EVALFILE --method=\"msp\" --input=$VALDATASET'/RoadAnomaly/images/*.jpg' --loadWeights $LOADWEIGHTS --q\n",
        "%run $EVALFILE --method=\"maxlogit\" --input=$VALDATASET'/RoadAnomaly21/images/*.png' --loadWeights $LOADWEIGHTS --q\n",
        "%run $EVALFILE --method=\"maxlogit\" --input=$VALDATASET'/RoadObsticle21/images/*.webp' --loadWeights $LOADWEIGHTS --q\n",
        "%run $EVALFILE --method=\"maxlogit\" --input=$VALDATASET'/FS_LostFound_full/images/*.png' --loadWeights $LOADWEIGHTS --q\n",
        "%run $EVALFILE --method=\"maxlogit\" --input=$VALDATASET'/fs_static/images/*.jpg' --loadWeights $LOADWEIGHTS --q\n",
        "%run $EVALFILE --method=\"maxlogit\" --input=$VALDATASET'/RoadAnomaly/images/*.jpg' --loadWeights $LOADWEIGHTS --q\n",
        "%run $EVALFILE --method=\"maxentropy\" --input=$VALDATASET'/RoadAnomaly21/images/*.png' --loadWeights $LOADWEIGHTS --q\n",
        "%run $EVALFILE --method=\"maxentropy\" --input=$VALDATASET'/RoadObsticle21/images/*.webp' --loadWeights $LOADWEIGHTS --q\n",
        "%run $EVALFILE --method=\"maxentropy\" --input=$VALDATASET'/FS_LostFound_full/images/*.png' --loadWeights $LOADWEIGHTS --q\n",
        "%run $EVALFILE --method=\"maxentropy\" --input=$VALDATASET'/fs_static/images/*.jpg' --loadWeights $LOADWEIGHTS --q\n",
        "%run $EVALFILE --method=\"maxentropy\" --input=$VALDATASET'/RoadAnomaly/images/*.jpg' --loadWeights $LOADWEIGHTS --q\n",
        "\n",
        "%run $EVALFILE --method='void' --input=$VALDATASET'/RoadAnomaly21/images/*.png'  --loadWeights=$LOADWEIGHTS --q\n",
        "%run $EVALFILE --method='void' --input=$VALDATASET'/RoadObsticle21/images/*.webp'  --loadWeights=$LOADWEIGHTS --q\n",
        "%run $EVALFILE --method='void' --input=$VALDATASET'/FS_LostFound_full/images/*.png'  --loadWeights=$LOADWEIGHTS --q\n",
        "%run $EVALFILE --method='void' --input=$VALDATASET'/fs_static/images/*.jpg'  --loadWeights=$LOADWEIGHTS --q\n",
        "%run $EVALFILE --method='void' --input=$VALDATASET'/RoadAnomaly/images/*.jpg'  --loadWeights=$LOADWEIGHTS --q"
      ],
      "metadata": {
        "colab": {
          "base_uri": "https://localhost:8080/"
        },
        "id": "kRAljoBAEN47",
        "outputId": "8439315e-c2aa-43d3-dec4-914ac8021d5d"
      },
      "execution_count": null,
      "outputs": [
        {
          "output_type": "stream",
          "name": "stdout",
          "text": [
            "simsiam-frozen.pth\tmsp\tRoadAnomaly21\tt=1\tAUPRC score: 19.76\tFPR@TPR95: 87.268\n",
            "simsiam-frozen.pth\tmsp\tRoadObsticle21\tt=1\tAUPRC score: 1.993\tFPR@TPR95: 64.735\n",
            "simsiam-frozen.pth\tmsp\tFS_LostFound_fu\tt=1\tAUPRC score: 0.57\tFPR@TPR95: 96.191\n",
            "simsiam-frozen.pth\tmsp\tfs_static\tt=1\tAUPRC score: 1.862\tFPR@TPR95: 87.343\n",
            "simsiam-frozen.pth\tmsp\tRoadAnomaly\tt=1\tAUPRC score: 13.907\tFPR@TPR95: 86.378\n",
            "simsiam-frozen.pth\tmaxlogit\tRoadAnomaly21\tt=1\tAUPRC score: 20.385\tFPR@TPR95: 75.177\n",
            "simsiam-frozen.pth\tmaxlogit\tRoadObsticle21\tt=1\tAUPRC score: 2.809\tFPR@TPR95: 63.643\n",
            "simsiam-frozen.pth\tmaxlogit\tFS_LostFound_fu\tt=1\tAUPRC score: 0.614\tFPR@TPR95: 92.981\n",
            "simsiam-frozen.pth\tmaxlogit\tfs_static\tt=1\tAUPRC score: 1.987\tFPR@TPR95: 83.337\n",
            "simsiam-frozen.pth\tmaxlogit\tRoadAnomaly\tt=1\tAUPRC score: 13.298\tFPR@TPR95: 89.405\n",
            "simsiam-frozen.pth\tmaxentropy\tRoadAnomaly21\tt=1\tAUPRC score: 19.587\tFPR@TPR95: 79.334\n",
            "simsiam-frozen.pth\tmaxentropy\tRoadObsticle21\tt=1\tAUPRC score: 2.237\tFPR@TPR95: 62.646\n",
            "simsiam-frozen.pth\tmaxentropy\tFS_LostFound_fu\tt=1\tAUPRC score: 0.629\tFPR@TPR95: 96.392\n",
            "simsiam-frozen.pth\tmaxentropy\tfs_static\tt=1\tAUPRC score: 1.811\tFPR@TPR95: 88.113\n",
            "simsiam-frozen.pth\tmaxentropy\tRoadAnomaly\tt=1\tAUPRC score: 13.299\tFPR@TPR95: 87.072\n",
            "simsiam-frozen.pth\tvoid\tRoadAnomaly21\tt=1\tAUPRC score: 13.411\tFPR@TPR95: 98.559\n",
            "simsiam-frozen.pth\tvoid\tRoadObsticle21\tt=1\tAUPRC score: 0.592\tFPR@TPR95: 95.914\n",
            "simsiam-frozen.pth\tvoid\tFS_LostFound_fu\tt=1\tAUPRC score: 0.708\tFPR@TPR95: 91.044\n",
            "simsiam-frozen.pth\tvoid\tfs_static\tt=1\tAUPRC score: 1.149\tFPR@TPR95: 85.878\n",
            "simsiam-frozen.pth\tvoid\tRoadAnomaly\tt=1\tAUPRC score: 9.119\tFPR@TPR95: 94.608\n",
            "simsiam-unfrozen.pth\tmsp\tRoadAnomaly21\tt=1\tAUPRC score: 18.117\tFPR@TPR95: 80.128\n",
            "simsiam-unfrozen.pth\tmsp\tRoadObsticle21\tt=1\tAUPRC score: 1.464\tFPR@TPR95: 70.045\n",
            "simsiam-unfrozen.pth\tmsp\tFS_LostFound_fu\tt=1\tAUPRC score: 0.489\tFPR@TPR95: 94.699\n",
            "simsiam-unfrozen.pth\tmsp\tfs_static\tt=1\tAUPRC score: 2.7\tFPR@TPR95: 80.477\n",
            "simsiam-unfrozen.pth\tmsp\tRoadAnomaly\tt=1\tAUPRC score: 14.804\tFPR@TPR95: 80.84\n",
            "simsiam-unfrozen.pth\tmaxlogit\tRoadAnomaly21\tt=1\tAUPRC score: 23.129\tFPR@TPR95: 65.527\n",
            "simsiam-unfrozen.pth\tmaxlogit\tRoadObsticle21\tt=1\tAUPRC score: 1.356\tFPR@TPR95: 72.995\n",
            "simsiam-unfrozen.pth\tmaxlogit\tFS_LostFound_fu\tt=1\tAUPRC score: 0.487\tFPR@TPR95: 92.595\n",
            "simsiam-unfrozen.pth\tmaxlogit\tfs_static\tt=1\tAUPRC score: 2.329\tFPR@TPR95: 73.054\n",
            "simsiam-unfrozen.pth\tmaxlogit\tRoadAnomaly\tt=1\tAUPRC score: 16.442\tFPR@TPR95: 81.638\n",
            "simsiam-unfrozen.pth\tmaxentropy\tRoadAnomaly21\tt=1\tAUPRC score: 19.789\tFPR@TPR95: 78.839\n",
            "simsiam-unfrozen.pth\tmaxentropy\tRoadObsticle21\tt=1\tAUPRC score: 1.47\tFPR@TPR95: 72.966\n",
            "simsiam-unfrozen.pth\tmaxentropy\tFS_LostFound_fu\tt=1\tAUPRC score: 0.494\tFPR@TPR95: 94.901\n",
            "simsiam-unfrozen.pth\tmaxentropy\tfs_static\tt=1\tAUPRC score: 2.88\tFPR@TPR95: 79.714\n",
            "simsiam-unfrozen.pth\tmaxentropy\tRoadAnomaly\tt=1\tAUPRC score: 15.802\tFPR@TPR95: 80.118\n",
            "simsiam-unfrozen.pth\tvoid\tRoadAnomaly21\tt=1\tAUPRC score: 12.555\tFPR@TPR95: 86.693\n",
            "simsiam-unfrozen.pth\tvoid\tRoadObsticle21\tt=1\tAUPRC score: 0.615\tFPR@TPR95: 93.311\n",
            "simsiam-unfrozen.pth\tvoid\tFS_LostFound_fu\tt=1\tAUPRC score: 1.219\tFPR@TPR95: 85.05\n",
            "simsiam-unfrozen.pth\tvoid\tfs_static\tt=1\tAUPRC score: 1.618\tFPR@TPR95: 86.506\n",
            "simsiam-unfrozen.pth\tvoid\tRoadAnomaly\tt=1\tAUPRC score: 9.917\tFPR@TPR95: 83.31\n"
          ]
        }
      ]
    },
    {
      "cell_type": "code",
      "source": [],
      "metadata": {
        "id": "OOguNYqGMg6h"
      },
      "execution_count": null,
      "outputs": []
    }
  ]
}